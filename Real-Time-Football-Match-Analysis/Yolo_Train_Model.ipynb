{
 "cells": [
  {
   "cell_type": "code",
   "execution_count": null,
   "id": "62629144",
   "metadata": {},
   "outputs": [],
   "source": [
    "!pip install ultralytics\n",
    "!pip install roboflow"
   ]
  },
  {
   "cell_type": "code",
   "execution_count": null,
   "id": "d367fc5b",
   "metadata": {},
   "outputs": [],
   "source": [
    "#data\n",
    "from roboflow import Roboflow\n",
    "rf = Roboflow(api_key=\"IP0ggaSTOhFZp5ZJgqKh\")\n",
    "project = rf.workspace(\"salah-naimat\").project(\"label2-v4zbj\")\n",
    "version = project.version(1)\n",
    "dataset = version.download(\"yolov8\")\n",
    "                "
   ]
  },
  {
   "cell_type": "markdown",
   "id": "524aae3a",
   "metadata": {},
   "source": [
    "# data\n"
   ]
  },
  {
   "cell_type": "code",
   "execution_count": null,
   "id": "53a9eaff",
   "metadata": {},
   "outputs": [],
   "source": [
    "dataset.location #location of data"
   ]
  },
  {
   "cell_type": "markdown",
   "id": "adc966b6",
   "metadata": {},
   "source": [
    "# Train Models"
   ]
  },
  {
   "cell_type": "code",
   "execution_count": null,
   "id": "7b68ff25",
   "metadata": {},
   "outputs": [
    {
     "name": "stdout",
     "output_type": "stream",
     "text": [
      "^C\n"
     ]
    }
   ],
   "source": [
    "!yolo task=detect mode=train model=yolov8x data={\"/location data for train\"}/data.yaml epochs=10 imgsz=640"
   ]
  },
  {
   "cell_type": "markdown",
   "id": "77bf2d5e",
   "metadata": {},
   "source": [
    "# Test models\n"
   ]
  },
  {
   "cell_type": "code",
   "execution_count": null,
   "id": "38ca75c6",
   "metadata": {},
   "outputs": [],
   "source": [
    "#test\n",
    "!yolo task=detect mode=val model=\"/model/best.pt\" data=\"C:/Users/ADMIN/Desktop/ahmad/data_train/done_model/football-players-detection.v11i.yolov8/data.yaml\" imgsz=640 save_json=True plots=True"
   ]
  }
 ],
 "metadata": {
  "kernelspec": {
   "display_name": "Python 3",
   "language": "python",
   "name": "python3"
  },
  "language_info": {
   "codemirror_mode": {
    "name": "ipython",
    "version": 3
   },
   "file_extension": ".py",
   "mimetype": "text/x-python",
   "name": "python",
   "nbconvert_exporter": "python",
   "pygments_lexer": "ipython3",
   "version": "3.10.0"
  }
 },
 "nbformat": 4,
 "nbformat_minor": 5
}
